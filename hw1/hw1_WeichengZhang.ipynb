{
 "cells": [
  {
   "cell_type": "code",
   "execution_count": 19,
   "metadata": {
    "collapsed": true
   },
   "outputs": [],
   "source": [
    "import sys\n",
    "sys.path.append('/usr/local/lib/python2.7/site-packages')\n",
    "import pandas\n",
    "import numpy\n",
    "from StringIO import StringIO\n",
    "import requests\n",
    "import seaborn"
   ]
  },
  {
   "cell_type": "code",
   "execution_count": 20,
   "metadata": {
    "collapsed": true
   },
   "outputs": [],
   "source": [
    "%matplotlib inline"
   ]
  },
  {
   "cell_type": "code",
   "execution_count": 21,
   "metadata": {
    "collapsed": true
   },
   "outputs": [],
   "source": [
    "csvPath='/Users/SamZhang/Documents/SecurityAnalytics/2012-general-election-romney-vs-obama.csv'\n",
    "csvData=pandas.read_csv(csvPath)"
   ]
  },
  {
   "cell_type": "code",
   "execution_count": 22,
   "metadata": {},
   "outputs": [
    {
     "data": {
      "text/plain": [
       "count    586.000000\n",
       "mean      44.614334\n",
       "std        2.906180\n",
       "min       32.000000\n",
       "25%       43.000000\n",
       "50%       45.000000\n",
       "75%       46.750000\n",
       "max       53.000000\n",
       "Name: Romney, dtype: float64"
      ]
     },
     "execution_count": 22,
     "metadata": {},
     "output_type": "execute_result"
    }
   ],
   "source": [
    "csvData['Romney'].describe()"
   ]
  },
  {
   "cell_type": "code",
   "execution_count": 23,
   "metadata": {},
   "outputs": [
    {
     "data": {
      "text/html": [
       "<div>\n",
       "<table border=\"1\" class=\"dataframe\">\n",
       "  <thead>\n",
       "    <tr style=\"text-align: right;\">\n",
       "      <th></th>\n",
       "      <th>Pollster</th>\n",
       "      <th>Start Date</th>\n",
       "      <th>End Date</th>\n",
       "      <th>Entry Date/Time (ET)</th>\n",
       "      <th>Number of Observations</th>\n",
       "      <th>Population</th>\n",
       "      <th>Mode</th>\n",
       "      <th>Obama</th>\n",
       "      <th>Romney</th>\n",
       "      <th>Undecided</th>\n",
       "      <th>Other</th>\n",
       "      <th>Pollster URL</th>\n",
       "      <th>Source URL</th>\n",
       "      <th>Partisan</th>\n",
       "      <th>Affiliation</th>\n",
       "      <th>Question Text</th>\n",
       "      <th>Question Iteration</th>\n",
       "    </tr>\n",
       "  </thead>\n",
       "  <tbody>\n",
       "    <tr>\n",
       "      <th>447</th>\n",
       "      <td>Clarus</td>\n",
       "      <td>2011-11-20</td>\n",
       "      <td>2011-11-22</td>\n",
       "      <td>2012-01-20T15:48:02Z</td>\n",
       "      <td>602.0</td>\n",
       "      <td>Registered Voters</td>\n",
       "      <td>Live Phone</td>\n",
       "      <td>37.0</td>\n",
       "      <td>53.0</td>\n",
       "      <td>10.0</td>\n",
       "      <td>NaN</td>\n",
       "      <td>http://elections.huffingtonpost.com/pollster/p...</td>\n",
       "      <td>http://www.nola.com/politics/index.ssf/2010/10...</td>\n",
       "      <td>Nonpartisan</td>\n",
       "      <td>None</td>\n",
       "      <td>NaN</td>\n",
       "      <td>1</td>\n",
       "    </tr>\n",
       "    <tr>\n",
       "      <th>477</th>\n",
       "      <td>Clarus</td>\n",
       "      <td>2011-10-05</td>\n",
       "      <td>2011-10-07</td>\n",
       "      <td>2012-09-12T16:28:11Z</td>\n",
       "      <td>602.0</td>\n",
       "      <td>Likely Voters</td>\n",
       "      <td>Live Phone</td>\n",
       "      <td>37.0</td>\n",
       "      <td>53.0</td>\n",
       "      <td>10.0</td>\n",
       "      <td>NaN</td>\n",
       "      <td>http://elections.huffingtonpost.com/pollster/p...</td>\n",
       "      <td>http://www.wwltv.com/news/politics/Presidentia...</td>\n",
       "      <td>Nonpartisan</td>\n",
       "      <td>None</td>\n",
       "      <td>NaN</td>\n",
       "      <td>1</td>\n",
       "    </tr>\n",
       "  </tbody>\n",
       "</table>\n",
       "</div>"
      ],
      "text/plain": [
       "    Pollster  Start Date    End Date  Entry Date/Time (ET)  \\\n",
       "447   Clarus  2011-11-20  2011-11-22  2012-01-20T15:48:02Z   \n",
       "477   Clarus  2011-10-05  2011-10-07  2012-09-12T16:28:11Z   \n",
       "\n",
       "     Number of Observations         Population        Mode  Obama  Romney  \\\n",
       "447                   602.0  Registered Voters  Live Phone   37.0    53.0   \n",
       "477                   602.0      Likely Voters  Live Phone   37.0    53.0   \n",
       "\n",
       "     Undecided  Other                                       Pollster URL  \\\n",
       "447       10.0    NaN  http://elections.huffingtonpost.com/pollster/p...   \n",
       "477       10.0    NaN  http://elections.huffingtonpost.com/pollster/p...   \n",
       "\n",
       "                                            Source URL     Partisan  \\\n",
       "447  http://www.nola.com/politics/index.ssf/2010/10...  Nonpartisan   \n",
       "477  http://www.wwltv.com/news/politics/Presidentia...  Nonpartisan   \n",
       "\n",
       "    Affiliation  Question Text  Question Iteration  \n",
       "447        None            NaN                   1  \n",
       "477        None            NaN                   1  "
      ]
     },
     "execution_count": 23,
     "metadata": {},
     "output_type": "execute_result"
    }
   ],
   "source": [
    "sorted_Romney=csvData.sort_values(['Romney'], ascending=False)\n",
    "sorted_Romney.head(2)#most pollsters"
   ]
  },
  {
   "cell_type": "code",
   "execution_count": 24,
   "metadata": {},
   "outputs": [
    {
     "data": {
      "text/html": [
       "<div>\n",
       "<table border=\"1\" class=\"dataframe\">\n",
       "  <thead>\n",
       "    <tr style=\"text-align: right;\">\n",
       "      <th></th>\n",
       "      <th>Pollster</th>\n",
       "      <th>Start Date</th>\n",
       "      <th>End Date</th>\n",
       "      <th>Entry Date/Time (ET)</th>\n",
       "      <th>Number of Observations</th>\n",
       "      <th>Population</th>\n",
       "      <th>Mode</th>\n",
       "      <th>Obama</th>\n",
       "      <th>Romney</th>\n",
       "      <th>Undecided</th>\n",
       "      <th>Other</th>\n",
       "      <th>Pollster URL</th>\n",
       "      <th>Source URL</th>\n",
       "      <th>Partisan</th>\n",
       "      <th>Affiliation</th>\n",
       "      <th>Question Text</th>\n",
       "      <th>Question Iteration</th>\n",
       "    </tr>\n",
       "  </thead>\n",
       "  <tbody>\n",
       "    <tr>\n",
       "      <th>555</th>\n",
       "      <td>Politico / Penn Schoen Berland</td>\n",
       "      <td>2010-11-08</td>\n",
       "      <td>2010-11-11</td>\n",
       "      <td>2010-11-16T10:55:05Z</td>\n",
       "      <td>1668.0</td>\n",
       "      <td>Adults</td>\n",
       "      <td>Internet</td>\n",
       "      <td>40.0</td>\n",
       "      <td>32.0</td>\n",
       "      <td>28.0</td>\n",
       "      <td>NaN</td>\n",
       "      <td>http://elections.huffingtonpost.com/pollster/p...</td>\n",
       "      <td>http://www.politico.com/static/PPM182_101115_r...</td>\n",
       "      <td>Sponsor</td>\n",
       "      <td>Other</td>\n",
       "      <td>NaN</td>\n",
       "      <td>1</td>\n",
       "    </tr>\n",
       "  </tbody>\n",
       "</table>\n",
       "</div>"
      ],
      "text/plain": [
       "                           Pollster  Start Date    End Date  \\\n",
       "555  Politico / Penn Schoen Berland  2010-11-08  2010-11-11   \n",
       "\n",
       "     Entry Date/Time (ET)  Number of Observations Population      Mode  Obama  \\\n",
       "555  2010-11-16T10:55:05Z                  1668.0     Adults  Internet   40.0   \n",
       "\n",
       "     Romney  Undecided  Other  \\\n",
       "555    32.0       28.0    NaN   \n",
       "\n",
       "                                          Pollster URL  \\\n",
       "555  http://elections.huffingtonpost.com/pollster/p...   \n",
       "\n",
       "                                            Source URL Partisan Affiliation  \\\n",
       "555  http://www.politico.com/static/PPM182_101115_r...  Sponsor       Other   \n",
       "\n",
       "     Question Text  Question Iteration  \n",
       "555            NaN                   1  "
      ]
     },
     "execution_count": 24,
     "metadata": {},
     "output_type": "execute_result"
    }
   ],
   "source": [
    "sorted_Romney=csvData.sort_values(['Romney'], ascending=True)\n",
    "sorted_Romney.head(1)#least pollsters"
   ]
  },
  {
   "cell_type": "markdown",
   "metadata": {
    "collapsed": true
   },
   "source": [
    "# Draw a time series graph"
   ]
  },
  {
   "cell_type": "code",
   "execution_count": 25,
   "metadata": {
    "collapsed": true
   },
   "outputs": [],
   "source": [
    "seaborn.set(color_codes=True)"
   ]
  },
  {
   "cell_type": "code",
   "execution_count": 26,
   "metadata": {
    "collapsed": true
   },
   "outputs": [],
   "source": [
    "path = r'/Users/SamZhang/Documents/SecurityAnalytics/sa_hw1.xlsx'"
   ]
  },
  {
   "cell_type": "code",
   "execution_count": 27,
   "metadata": {
    "collapsed": true
   },
   "outputs": [],
   "source": [
    "csvData[['Start Date','Romney']].to_excel(path, index=False)"
   ]
  },
  {
   "cell_type": "code",
   "execution_count": 28,
   "metadata": {},
   "outputs": [
    {
     "data": {
      "text/plain": [
       "<matplotlib.axes.AxesSubplot at 0x10c00e990>"
      ]
     },
     "execution_count": 28,
     "metadata": {},
     "output_type": "execute_result"
    },
    {
     "data": {
      "image/png": "[encoded data removed]",
      "text/plain": [
       "<matplotlib.figure.Figure at 0x10bad9450>"
      ]
     },
     "metadata": {},
     "output_type": "display_data"
    }
   ],
   "source": [
    "graph = pandas.read_excel(path, 0, index_col='Start Date')\n",
    "graph.plot()"
   ]
  }
 ],
 "metadata": {
  "kernelspec": {
   "display_name": "Python 2",
   "language": "python",
   "name": "python2"
  },
  "language_info": {
   "codemirror_mode": {
    "name": "ipython",
    "version": 2
   },
   "file_extension": ".py",
   "mimetype": "text/x-python",
   "name": "python",
   "nbconvert_exporter": "python",
   "pygments_lexer": "ipython2",
   "version": "2.7.10"
  }
 },
 "nbformat": 4,
 "nbformat_minor": 2
}
