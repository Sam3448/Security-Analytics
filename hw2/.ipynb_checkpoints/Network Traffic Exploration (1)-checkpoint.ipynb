{
 "cells": [
  {
   "cell_type": "markdown",
   "metadata": {},
   "source": [
    "# Explore network traffic dump"
   ]
  },
  {
   "cell_type": "markdown",
   "metadata": {},
   "source": [
    "We will explore a network traffic trace file and perform some initial analysis.\n",
    "\n",
    "You will need  following tools:\n",
    "    \n",
    "* **Pandas**, a Python library for analysing data <http://pandas.pydata.org/>\n",
    "* **tshark**, the command line version of the Wireshark sniffer <http://http://www.wireshark.org/>\n",
    "* **Matplotlib**, a Python plotting library <http://matplotlib.org/>"
   ]
  },
  {
   "cell_type": "markdown",
   "metadata": {},
   "source": [
    "## Download the traffic trace file"
   ]
  },
  {
   "cell_type": "markdown",
   "metadata": {},
   "source": [
    "First, download the traffic trace file \"traffic_dump.pcap\", and this IPython notebook \"Network Traffic Exploration.ipynb\" from Blackboard, and save them into the same directory."
   ]
  },
  {
   "cell_type": "code",
   "execution_count": 1,
   "metadata": {},
   "outputs": [],
   "source": [
    "!ls -l"
   ]
  },
  {
   "cell_type": "markdown",
   "metadata": {},
   "source": [
    "## Convert PCAP to a CSV using tshark"
   ]
  },
  {
   "cell_type": "markdown",
   "metadata": {},
   "source": [
    "We can use the `tshark` command from the Wireshark tool suite to read the PCAP file and convert it into a tab-separated file. This might not be very fast, but it is very flexible, because all of Wireshark's diplay filters can be used to select the packets that we are interested in."
   ]
  },
  {
   "cell_type": "code",
   "execution_count": 2,
   "metadata": {},
   "outputs": [],
   "source": [
    "!tshark --help"
   ]
  },
  {
   "cell_type": "markdown",
   "metadata": {},
   "source": [
    "Let's read the traffic_dump.pcap into tshark, and display frame number and frame length of each captured packet.\n",
    "* -n: no name resolution\n",
    "* -r: read from file, not a live capture\n",
    "* -T fields: use table fields as the output format\n",
    "* -T header=y: display header\n",
    "* -e: field to display"
   ]
  },
  {
   "cell_type": "code",
   "execution_count": 3,
   "metadata": {},
   "outputs": [],
   "source": [
    "!tshark -n -r traffic_dump.pcap -T fields -Eheader=y -e frame.number -e frame.len > frame.len"
   ]
  },
  {
   "cell_type": "markdown",
   "metadata": {},
   "source": [
    "Let's have a look at the file:"
   ]
  },
  {
   "cell_type": "code",
   "execution_count": 4,
   "metadata": {},
   "outputs": [],
   "source": [
    "!head -10 frame.len"
   ]
  },
  {
   "cell_type": "markdown",
   "metadata": {},
   "source": [
    "Use Pandas to read the table into a DataFrame object:"
   ]
  },
  {
   "cell_type": "code",
   "execution_count": 50,
   "metadata": {},
   "outputs": [],
   "source": [
    "import pandas as pd"
   ]
  },
  {
   "cell_type": "code",
   "execution_count": 20,
   "metadata": {},
   "outputs": [],
   "source": [
    "df=pd.read_table(\"frame.len\")"
   ]
  },
  {
   "cell_type": "markdown",
   "metadata": {},
   "source": [
    "Take a look of the data frame."
   ]
  },
  {
   "cell_type": "code",
   "execution_count": 21,
   "metadata": {},
   "outputs": [],
   "source": [
    "df"
   ]
  },
  {
   "cell_type": "markdown",
   "metadata": {},
   "source": [
    "Some statistics about the frame length:"
   ]
  },
  {
   "cell_type": "code",
   "execution_count": 22,
   "metadata": {},
   "outputs": [],
   "source": [
    "df[\"frame.len\"].describe()"
   ]
  },
  {
   "cell_type": "markdown",
   "metadata": {},
   "source": [
    "The min and max are compliant with Ethernet specifications."
   ]
  },
  {
   "cell_type": "markdown",
   "metadata": {},
   "source": [
    "## Plotting"
   ]
  },
  {
   "cell_type": "markdown",
   "metadata": {},
   "source": [
    "For a better overview, we plot the frame length over time."
   ]
  },
  {
   "cell_type": "markdown",
   "metadata": {},
   "source": [
    "We initialise IPython to show inline graphics:"
   ]
  },
  {
   "cell_type": "code",
   "execution_count": 25,
   "metadata": {},
   "outputs": [],
   "source": [
    "#import matplotlib.pyplot as plt\n",
    "#%matplotlib inline\n",
    "%pylab inline"
   ]
  },
  {
   "cell_type": "markdown",
   "metadata": {},
   "source": [
    "Set a figure size in inches:"
   ]
  },
  {
   "cell_type": "code",
   "execution_count": 27,
   "metadata": {},
   "outputs": [],
   "source": [
    "figsize(10,6)"
   ]
  },
  {
   "cell_type": "markdown",
   "metadata": {},
   "source": [
    "Pandas automatically uses Matplotlib for plotting. We plot with small dots and an alpha channel of 0.2:"
   ]
  },
  {
   "cell_type": "code",
   "execution_count": 31,
   "metadata": {},
   "outputs": [],
   "source": [
    "df[\"frame.len\"].plot(style=\".\", alpha=0.2)\n",
    "title(\"Frame length\")\n",
    "ylabel(\"bytes\")\n",
    "xlabel(\"frame number\")"
   ]
  },
  {
   "cell_type": "markdown",
   "metadata": {},
   "source": [
    "So there are always lots of small packets (< 100 bytes) and lots of large packets (> 1400 bytes). Some bursts of packets with other sizes (around 400 bytes, 1000 bytes, etc.) can be clearly seen."
   ]
  },
  {
   "cell_type": "markdown",
   "metadata": {},
   "source": [
    "### A nice Python function to help read data"
   ]
  },
  {
   "cell_type": "markdown",
   "metadata": {},
   "source": [
    "Here is a convenient helper function that reads the given fields into a Pandas DataFrame:"
   ]
  },
  {
   "cell_type": "code",
   "execution_count": 51,
   "metadata": {},
   "outputs": [],
   "source": [
    "import subprocess\n",
    "import datetime\n",
    "import pandas as pd\n",
    "\n",
    "def read_traffic(filename, fields=[], display_filter=\"\", \n",
    "              timeseries=False, strict=False):\n",
    "    \"\"\" Read PCAP file into Pandas DataFrame object. \n",
    "    Uses tshark command-line tool from Wireshark.\n",
    "\n",
    "    filename:       Name or full path of the PCAP file to read\n",
    "    fields:         List of fields to include as columns\n",
    "    display_filter: Additional filter to restrict frames\n",
    "    strict:         Only include frames that contain all given fields \n",
    "                    (Default: false)\n",
    "    timeseries:     Create DatetimeIndex from frame.time_epoch \n",
    "                    (Default: false)\n",
    "\n",
    "    Syntax for fields and display_filter is specified in\n",
    "    Wireshark's Display Filter Reference:\n",
    " \n",
    "      http://www.wireshark.org/docs/dfref/\n",
    "    \"\"\"\n",
    "    if timeseries:\n",
    "        fields = [\"frame.time_epoch\"] + fields\n",
    "    fieldspec = \" \".join(\"-e %s\" % f for f in fields)\n",
    "\n",
    "    display_filters = fields if strict else []\n",
    "    if display_filter:\n",
    "        display_filters.append(display_filter)\n",
    "    filterspec = \"-Y '%s'\" % \" and \".join(f for f in display_filters)\n",
    "\n",
    "    options = \"-r %s -n -T fields -Eheader=y\" % filename\n",
    "    cmd = \"tshark %s %s %s\" % (options, filterspec, fieldspec)\n",
    "    #print cmd\n",
    "    proc = subprocess.Popen(cmd, shell = True, \n",
    "                                 stdout=subprocess.PIPE)\n",
    "    if timeseries:\n",
    "        df = pd.read_table(proc.stdout, \n",
    "                        index_col = \"frame.time_epoch\", \n",
    "                        parse_dates=True, \n",
    "                        date_parser=datetime.datetime.fromtimestamp)\n",
    "    else:\n",
    "        df = pd.read_table(proc.stdout)\n",
    "    return df"
   ]
  },
  {
   "cell_type": "markdown",
   "metadata": {},
   "source": [
    "## Bandwidth Usage"
   ]
  },
  {
   "cell_type": "markdown",
   "metadata": {},
   "source": [
    "We want to know how much bandwidth is used every second. To do that, we need to sum up the frame lengths for every second.\n",
    "\n",
    "First use our helper function to read the traffic trace into a DataFrame:"
   ]
  },
  {
   "cell_type": "code",
   "execution_count": 52,
   "metadata": {},
   "outputs": [],
   "source": [
    "framelen=read_traffic(\"traffic_dump.pcap\", [\"frame.len\"], timeseries=True)\n",
    "framelen"
   ]
  },
  {
   "cell_type": "markdown",
   "metadata": {},
   "source": [
    "Then we re-sample the timeseries into buckets of 1 second, summing over the lengths of all frames that were captured in that second:"
   ]
  },
  {
   "cell_type": "code",
   "execution_count": 34,
   "metadata": {},
   "outputs": [],
   "source": [
    "#bytes_per_second=framelen.resample(\"S\", how=\"sum\")\n",
    "bytes_per_second=framelen.resample(\"S\").sum()"
   ]
  },
  {
   "cell_type": "markdown",
   "metadata": {},
   "source": [
    "Here are the first 5 rows. We get NaN for those timestamps where no frames were captured:"
   ]
  },
  {
   "cell_type": "code",
   "execution_count": 35,
   "metadata": {},
   "outputs": [],
   "source": [
    "bytes_per_second.head()"
   ]
  },
  {
   "cell_type": "code",
   "execution_count": 36,
   "metadata": {},
   "outputs": [],
   "source": [
    "bytes_per_second.plot()"
   ]
  },
  {
   "cell_type": "markdown",
   "metadata": {},
   "source": [
    "## Analyze the trace at TCP level"
   ]
  },
  {
   "cell_type": "markdown",
   "metadata": {},
   "source": [
    "Let's try to replicate the TCP Time-Sequence Graph"
   ]
  },
  {
   "cell_type": "code",
   "execution_count": 37,
   "metadata": {},
   "outputs": [],
   "source": [
    "fields=[\"tcp.stream\", \"ip.src\", \"ip.dst\", \"tcp.seq\", \"tcp.ack\", \"tcp.window_size\", \"tcp.len\"]\n",
    "ts=read_traffic(\"traffic_dump.pcap\", fields, timeseries=True, strict=True)\n",
    "ts"
   ]
  },
  {
   "cell_type": "markdown",
   "metadata": {},
   "source": [
    "Now we have to select a TCP stream to analyse. As an example, we just pick stream number 10:"
   ]
  },
  {
   "cell_type": "code",
   "execution_count": 38,
   "metadata": {},
   "outputs": [],
   "source": [
    "stream=ts[ts[\"tcp.stream\"] == 10]\n",
    "stream"
   ]
  },
  {
   "cell_type": "markdown",
   "metadata": {},
   "source": [
    "Add a column that shows who sent the packet (client or server). "
   ]
  },
  {
   "cell_type": "markdown",
   "metadata": {},
   "source": [
    "The fancy lambda expression is a function that distinguishes between the client and the server side of the stream by comparing the source IP address with the source IP address of the first packet in the stream (for TCP steams that should have been sent by the client)."
   ]
  },
  {
   "cell_type": "code",
   "execution_count": 39,
   "metadata": {},
   "outputs": [],
   "source": [
    "stream[\"type\"] = stream.apply(lambda x: \"client\" if x[\"ip.src\"] == stream.iloc[0][\"ip.src\"] else \"server\", axis=1)"
   ]
  },
  {
   "cell_type": "code",
   "execution_count": 49,
   "metadata": {},
   "outputs": [],
   "source": [
    "#print stream.to_string()\n",
    "stream"
   ]
  },
  {
   "cell_type": "code",
   "execution_count": 41,
   "metadata": {},
   "outputs": [],
   "source": [
    "client_stream=stream[stream.type == \"client\"]\n",
    "client_stream"
   ]
  },
  {
   "cell_type": "code",
   "execution_count": 42,
   "metadata": {},
   "outputs": [],
   "source": [
    "client_stream[\"tcp.seq\"].plot(style=\"r-o\")"
   ]
  },
  {
   "cell_type": "markdown",
   "metadata": {},
   "source": [
    "Notice that the x-axis shows the real timestamps."
   ]
  },
  {
   "cell_type": "markdown",
   "metadata": {},
   "source": [
    "For comparison, change the x-axis to be the packet number in the stream:"
   ]
  },
  {
   "cell_type": "code",
   "execution_count": 43,
   "metadata": {},
   "outputs": [],
   "source": [
    "client_stream.index = arange(len(client_stream))\n",
    "client_stream[\"tcp.seq\"].plot(style=\"r-o\")"
   ]
  },
  {
   "cell_type": "markdown",
   "metadata": {},
   "source": [
    "Looks different of course."
   ]
  },
  {
   "cell_type": "markdown",
   "metadata": {},
   "source": [
    "## Bytes per stream"
   ]
  },
  {
   "cell_type": "code",
   "execution_count": 44,
   "metadata": {},
   "outputs": [],
   "source": [
    "per_stream=ts.groupby(\"tcp.stream\")\n",
    "per_stream.head()"
   ]
  },
  {
   "cell_type": "code",
   "execution_count": 46,
   "metadata": {},
   "outputs": [],
   "source": [
    "bytes_per_stream = per_stream[\"tcp.len\"].sum()\n",
    "bytes_per_stream.head()"
   ]
  },
  {
   "cell_type": "code",
   "execution_count": 47,
   "metadata": {},
   "outputs": [],
   "source": [
    "bytes_per_stream.plot()"
   ]
  },
  {
   "cell_type": "code",
   "execution_count": 46,
   "metadata": {},
   "outputs": [],
   "source": [
    "bytes_per_stream.max()"
   ]
  },
  {
   "cell_type": "code",
   "execution_count": 47,
   "metadata": {},
   "outputs": [],
   "source": [
    "biggest_stream=bytes_per_stream.idxmax()\n",
    "biggest_stream"
   ]
  },
  {
   "cell_type": "code",
   "execution_count": 36,
   "metadata": {},
   "outputs": [],
   "source": [
    "bytes_per_stream.ix[biggest_stream]"
   ]
  },
  {
   "cell_type": "markdown",
   "metadata": {},
   "source": [
    "# Your turn"
   ]
  },
  {
   "cell_type": "markdown",
   "metadata": {},
   "source": [
    "## Task 1: Query function\n",
    "Write a function, given an ip address, output information of all TCP streams that involve this ip address, including stream's starting time, ending time, the other ip address, and stream's size in packets\n",
    "\n",
    "## Task 2: Plot the query results\n",
    "Plot the obtained information in task 1 as a time series on streams' starting times. Use multiple plots for different information. For exmaple, one plot for the other ip address, and one plot for stream size.\n",
    "\n",
    "## Task 3: Restore the content of streams\n",
    "Use the tool tcpflow (http://www.forensicswiki.org/wiki/Tcpflow) to save all stream content to external files. "
   ]
  }
 ],
 "metadata": {
  "kernelspec": {
   "display_name": "Python 2",
   "language": "python",
   "name": "python2"
  },
  "language_info": {
   "codemirror_mode": {
    "name": "ipython",
    "version": 2
   },
   "file_extension": ".py",
   "mimetype": "text/x-python",
   "name": "python",
   "nbconvert_exporter": "python",
   "pygments_lexer": "ipython2",
   "version": "2.7.10"
  }
 },
 "nbformat": 4,
 "nbformat_minor": 1
}
